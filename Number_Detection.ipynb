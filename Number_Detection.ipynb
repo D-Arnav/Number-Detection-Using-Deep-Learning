{
  "nbformat": 4,
  "nbformat_minor": 0,
  "metadata": {
    "colab": {
      "provenance": [],
      "authorship_tag": "ABX9TyMCTWNF9i8xzyNtV0QRan5o",
      "include_colab_link": true
    },
    "kernelspec": {
      "name": "python3",
      "display_name": "Python 3"
    },
    "language_info": {
      "name": "python"
    }
  },
  "cells": [
    {
      "cell_type": "markdown",
      "metadata": {
        "id": "view-in-github",
        "colab_type": "text"
      },
      "source": [
        "<a href=\"https://colab.research.google.com/github/D-Arnav/Number-Detection-Using-Deep-Learning/blob/main/Number_Detection.ipynb\" target=\"_parent\"><img src=\"https://colab.research.google.com/assets/colab-badge.svg\" alt=\"Open In Colab\"/></a>"
      ]
    },
    {
      "cell_type": "markdown",
      "source": [
        "# Imports"
      ],
      "metadata": {
        "id": "NwAQtAGOPZJg"
      }
    },
    {
      "cell_type": "code",
      "execution_count": null,
      "metadata": {
        "id": "bAxY3yxsPGO-"
      },
      "outputs": [],
      "source": [
        "import tensorflow as tf\n",
        "from tensorflow import keras\n",
        "from keras import layers\n",
        "import matplotlib.pyplot as plt\n",
        "import numpy as np\n",
        "import random\n",
        "from PIL import Image"
      ]
    },
    {
      "cell_type": "markdown",
      "source": [
        "# Creating the Model"
      ],
      "metadata": {
        "id": "sTVmpZs6PdSD"
      }
    },
    {
      "cell_type": "code",
      "source": [
        "model = keras.Sequential(\n",
        "    [\n",
        "        keras.Input(shape=(28, 28, 1)),\n",
        "        layers.Flatten(),\n",
        "        layers.Dense(30, activation=\"relu\"),\n",
        "        layers.Dense(20, activation=\"relu\"),\n",
        "        layers.Dense(10, activation=\"softmax\"),\n",
        "    ]\n",
        ")\n",
        "model.summary()"
      ],
      "metadata": {
        "colab": {
          "base_uri": "https://localhost:8080/"
        },
        "id": "irEsbii5PQQc",
        "outputId": "94896956-09fd-49c8-d8f8-c60626d621d0"
      },
      "execution_count": null,
      "outputs": [
        {
          "output_type": "stream",
          "name": "stdout",
          "text": [
            "Model: \"sequential_1\"\n",
            "_________________________________________________________________\n",
            " Layer (type)                Output Shape              Param #   \n",
            "=================================================================\n",
            " flatten_1 (Flatten)         (None, 784)               0         \n",
            "                                                                 \n",
            " dense_3 (Dense)             (None, 30)                23550     \n",
            "                                                                 \n",
            " dense_4 (Dense)             (None, 20)                620       \n",
            "                                                                 \n",
            " dense_5 (Dense)             (None, 10)                210       \n",
            "                                                                 \n",
            "=================================================================\n",
            "Total params: 24,380\n",
            "Trainable params: 24,380\n",
            "Non-trainable params: 0\n",
            "_________________________________________________________________\n"
          ]
        }
      ]
    },
    {
      "cell_type": "markdown",
      "source": [
        "# Getting the Data"
      ],
      "metadata": {
        "id": "VbNoXvxVPmBu"
      }
    },
    {
      "cell_type": "code",
      "source": [
        "[(x_train, y_train_label), (x_test, y_test_label)] = keras.datasets.mnist.load_data()\n",
        "print(x_train.shape)\n",
        "print(y_train_label.shape)\n",
        "print(x_test.shape)\n",
        "print(y_test_label.shape)"
      ],
      "metadata": {
        "colab": {
          "base_uri": "https://localhost:8080/"
        },
        "id": "yCcKj5UwPRwP",
        "outputId": "b5950048-c5d4-4dfb-c45e-558151e2f0ad"
      },
      "execution_count": null,
      "outputs": [
        {
          "output_type": "stream",
          "name": "stdout",
          "text": [
            "(60000, 28, 28)\n",
            "(60000,)\n",
            "(10000, 28, 28)\n",
            "(10000,)\n"
          ]
        }
      ]
    },
    {
      "cell_type": "markdown",
      "source": [
        "# Looking at the Sample Data"
      ],
      "metadata": {
        "id": "DfqAFMHVPp1h"
      }
    },
    {
      "cell_type": "code",
      "source": [
        "plt.imshow(x_train[0], cmap='gray')\n",
        "print(y_train_label[0])"
      ],
      "metadata": {
        "colab": {
          "base_uri": "https://localhost:8080/",
          "height": 282
        },
        "id": "eKNHAHGYPS1T",
        "outputId": "4517ab9b-cdb4-47f6-ddb7-5d2d1199e37a"
      },
      "execution_count": null,
      "outputs": [
        {
          "output_type": "stream",
          "name": "stdout",
          "text": [
            "5\n"
          ]
        },
        {
          "output_type": "display_data",
          "data": {
            "text/plain": [
              "<Figure size 432x288 with 1 Axes>"
            ],
            "image/png": "[encoded data removed]"
          },
          "metadata": {
            "needs_background": "light"
          }
        }
      ]
    },
    {
      "cell_type": "markdown",
      "source": [
        "# Processing Data to Fit into the Network"
      ],
      "metadata": {
        "id": "6JibPdrlPvEp"
      }
    },
    {
      "cell_type": "code",
      "source": [
        "x_train = x_train.astype(float) / 255.0\n",
        "x_train = np.expand_dims(x_train, axis=-1)\n",
        "x_test = x_test.astype(float) / 255.0\n",
        "x_test = np.expand_dims(x_test, axis=-1)\n",
        "\n",
        "y_train_label = keras.utils.to_categorical(y_train_label, 10)\n",
        "y_test_label = keras.utils.to_categorical(y_test_label, 10)"
      ],
      "metadata": {
        "id": "AAZogLBnPUBJ"
      },
      "execution_count": null,
      "outputs": []
    },
    {
      "cell_type": "markdown",
      "source": [
        "# Training the Model"
      ],
      "metadata": {
        "id": "GBO5Y3_6P0aH"
      }
    },
    {
      "cell_type": "code",
      "source": [
        "model.compile(loss=\"categorical_crossentropy\", optimizer=\"adam\", metrics=[\"accuracy\"])\n",
        "model.fit(x_train, y_train_label, batch_size=32, epochs=10, verbose=1)"
      ],
      "metadata": {
        "colab": {
          "base_uri": "https://localhost:8080/"
        },
        "id": "eQBWykhtPVHt",
        "outputId": "dbda297c-6b4a-40e9-8f0c-db455c32d1c2"
      },
      "execution_count": null,
      "outputs": [
        {
          "output_type": "stream",
          "name": "stdout",
          "text": [
            "Epoch 1/10\n",
            "1875/1875 [==============================] - 6s 3ms/step - loss: 0.3644 - accuracy: 0.8949\n",
            "Epoch 2/10\n",
            "1875/1875 [==============================] - 5s 3ms/step - loss: 0.1764 - accuracy: 0.9484\n",
            "Epoch 3/10\n",
            "1875/1875 [==============================] - 5s 2ms/step - loss: 0.1430 - accuracy: 0.9578\n",
            "Epoch 4/10\n",
            "1875/1875 [==============================] - 4s 2ms/step - loss: 0.1223 - accuracy: 0.9628\n",
            "Epoch 5/10\n",
            "1875/1875 [==============================] - 5s 2ms/step - loss: 0.1067 - accuracy: 0.9681\n",
            "Epoch 6/10\n",
            "1875/1875 [==============================] - 5s 2ms/step - loss: 0.0962 - accuracy: 0.9711\n",
            "Epoch 7/10\n",
            "1875/1875 [==============================] - 6s 3ms/step - loss: 0.0885 - accuracy: 0.9731\n",
            "Epoch 8/10\n",
            "1875/1875 [==============================] - 5s 2ms/step - loss: 0.0803 - accuracy: 0.9759\n",
            "Epoch 9/10\n",
            "1875/1875 [==============================] - 5s 2ms/step - loss: 0.0764 - accuracy: 0.9760\n",
            "Epoch 10/10\n",
            "1875/1875 [==============================] - 5s 2ms/step - loss: 0.0693 - accuracy: 0.9786\n"
          ]
        },
        {
          "output_type": "execute_result",
          "data": {
            "text/plain": [
              "<keras.callbacks.History at 0x7f755a187810>"
            ]
          },
          "metadata": {},
          "execution_count": 9
        }
      ]
    },
    {
      "cell_type": "markdown",
      "source": [
        "# Predicted the Lable For a Random Image From Testing Data"
      ],
      "metadata": {
        "id": "ouXXixPHP2_m"
      }
    },
    {
      "cell_type": "code",
      "source": [
        "random_index = random.randint(0, x_test.shape[0])\n",
        "random_sample = x_test[random_index]\n",
        "random_sample_label = np.argmax(y_test_label[random_index])\n",
        "plt.imshow(np.squeeze(random_sample), cmap='gray')\n",
        "\n",
        "predictions = model.predict(np.expand_dims(random_sample, axis=0))\n",
        "predictions = [round(x, 3) for x in predictions[0]]\n",
        "predicted_label = predictions.index(max(predictions))\n",
        "\n",
        "print(f'Predictions = {predictions}')\n",
        "print(f'Predicted Label = {predicted_label}')\n",
        "print(f'Random Label = {random_sample_label}')\n",
        "print('Correct' if predicted_label == random_sample_label else 'Incorrect')\n"
      ],
      "metadata": {
        "colab": {
          "base_uri": "https://localhost:8080/",
          "height": 352
        },
        "id": "nVTh5fnFPWYL",
        "outputId": "923beec2-93be-452e-f5be-295a969e1e79"
      },
      "execution_count": null,
      "outputs": [
        {
          "output_type": "stream",
          "name": "stdout",
          "text": [
            "1/1 [==============================] - 0s 19ms/step\n",
            "Predictions = [0.283, 0.0, 0.0, 0.0, 0.0, 0.0, 0.717, 0.0, 0.0, 0.0]\n",
            "Predicted Label = 6\n",
            "Random Label = 6\n",
            "Correct\n"
          ]
        },
        {
          "output_type": "display_data",
          "data": {
            "text/plain": [
              "<Figure size 432x288 with 1 Axes>"
            ],
            "image/png": "[encoded data removed]"
          },
          "metadata": {
            "needs_background": "light"
          }
        }
      ]
    },
    {
      "cell_type": "markdown",
      "source": [
        "# Checking the Accuracy of the Model"
      ],
      "metadata": {
        "id": "03YyKkbgQFbC"
      }
    },
    {
      "cell_type": "code",
      "source": [
        "evaluation = model.evaluate(x_test, y_test_label, batch_size=32, verbose=1)\n",
        "print(\"Accuracy: {:.2f}%\".format(evaluation[1]*100))"
      ],
      "metadata": {
        "colab": {
          "base_uri": "https://localhost:8080/"
        },
        "id": "QKsBnvMmPXXf",
        "outputId": "89533593-085a-462d-e890-b0a3231d142f"
      },
      "execution_count": null,
      "outputs": [
        {
          "output_type": "stream",
          "name": "stdout",
          "text": [
            "313/313 [==============================] - 1s 2ms/step - loss: 0.1103 - accuracy: 0.9695\n",
            "Accuracy: 96.95%\n"
          ]
        }
      ]
    }
  ]
}